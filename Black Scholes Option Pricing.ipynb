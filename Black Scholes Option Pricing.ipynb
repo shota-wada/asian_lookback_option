{
 "cells": [
  {
   "cell_type": "markdown",
   "id": "d008116c",
   "metadata": {},
   "source": [
    "### Black Scholes Option Pricing"
   ]
  },
  {
   "cell_type": "code",
   "execution_count": 4,
   "id": "fd7de088",
   "metadata": {},
   "outputs": [],
   "source": [
    "#importing libary\n",
    "import pandas as pd\n",
    "from numpy import *\n",
    "import yfinance as yf\n",
    "from scipy.stats import norm\n",
    "\n",
    "#import libary to plot\n",
    "import matplotlib.pyplot as plt\n",
    "from tabulate import tabulate"
   ]
  },
  {
   "cell_type": "code",
   "execution_count": null,
   "id": "3eb7b33b",
   "metadata": {},
   "outputs": [],
   "source": []
  },
  {
   "cell_type": "code",
   "execution_count": null,
   "id": "40f670a9",
   "metadata": {},
   "outputs": [],
   "source": []
  },
  {
   "cell_type": "code",
   "execution_count": null,
   "id": "a1d69cad",
   "metadata": {},
   "outputs": [],
   "source": [
    "class BS:\n",
    "    \"\"\"\n",
    "    \"\"\""
   ]
  },
  {
   "cell_type": "code",
   "execution_count": 8,
   "id": "04a01c54",
   "metadata": {},
   "outputs": [],
   "source": [
    "spy = yf.Ticker('SPY')\n",
    "options = spy.option_chain('2023-09-13')"
   ]
  },
  {
   "cell_type": "code",
   "execution_count": null,
   "id": "14fecca8",
   "metadata": {},
   "outputs": [],
   "source": []
  },
  {
   "cell_type": "code",
   "execution_count": null,
   "id": "25633d3a",
   "metadata": {},
   "outputs": [],
   "source": []
  }
 ],
 "metadata": {
  "kernelspec": {
   "display_name": "Python 3 (ipykernel)",
   "language": "python",
   "name": "python3"
  },
  "language_info": {
   "codemirror_mode": {
    "name": "ipython",
    "version": 3
   },
   "file_extension": ".py",
   "mimetype": "text/x-python",
   "name": "python",
   "nbconvert_exporter": "python",
   "pygments_lexer": "ipython3",
   "version": "3.11.3"
  }
 },
 "nbformat": 4,
 "nbformat_minor": 5
}
